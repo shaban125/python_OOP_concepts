{
  "nbformat": 4,
  "nbformat_minor": 0,
  "metadata": {
    "colab": {
      "provenance": []
    },
    "kernelspec": {
      "name": "python3",
      "display_name": "Python 3"
    },
    "language_info": {
      "name": "python"
    }
  },
  "cells": [
    {
      "cell_type": "markdown",
      "source": [
        "## **class with dender function**"
      ],
      "metadata": {
        "id": "jUSUxbM3QgTp"
      }
    },
    {
      "cell_type": "code",
      "execution_count": null,
      "metadata": {
        "colab": {
          "base_uri": "https://localhost:8080/"
        },
        "id": "l1yIe0AQLtug",
        "outputId": "2535c653-bcc2-47f4-f9af-d8997afa8ec7"
      },
      "outputs": [
        {
          "output_type": "stream",
          "name": "stdout",
          "text": [
            "Python Rocks! by Jose Portilla pages in the book:159 the price of the book is:\n",
            "159\n",
            "A book object has been deleted\n"
          ]
        }
      ],
      "source": [
        "class Book:\n",
        "    def __init__(self, title, author, pages, price):\n",
        "        self.title = title\n",
        "        self.author = author\n",
        "        self.pages = pages\n",
        "        self.price = price\n",
        "\n",
        "    def __str__(self):\n",
        "        return f\"{self.title} by {self.author} pages in the book:{self.pages} the price of the book is:\"\n",
        "\n",
        "    def __len__(self):\n",
        "        return self.pages\n",
        "\n",
        "    def __del__(self):\n",
        "        print(\"A book object has been deleted\")\n",
        "obj = Book(\"Python Rocks!\", \"Jose Portilla\", 159, 39.95)\n",
        "print(obj)\n",
        "print(len(obj))\n",
        "del obj"
      ]
    },
    {
      "cell_type": "code",
      "source": [
        "class Product:\n",
        "    def __init__(self, name, price, availability):\n",
        "        self.__name = name\n",
        "        self.__price = price\n",
        "        self.__availability = availability\n",
        "\n",
        "    # Getter method to access the product name\n",
        "    def get_name(self):\n",
        "        return self.__name\n",
        "\n",
        "    # Getter method to access the product price\n",
        "    def get_price(self):\n",
        "        return self.__price\n",
        "\n",
        "    # Method to check if the product is available\n",
        "    def is_available(self):\n",
        "        return self.__availability\n",
        "\n",
        "    # Setter method to update the product price\n",
        "    def set_price(self, new_price):\n",
        "        self.__price = new_price\n",
        "\n",
        "    # Setter method to update the availability status\n",
        "    def set_availability(self, new_availability):\n",
        "        self.__availability = new_availability\n",
        "obj = Product(\"Laptop\", 999.99, True)\n",
        "print(obj.get_name())\n",
        "print(obj.get_price())\n",
        "print(obj.is_available())\n",
        "obj.set_price(1499.99)\n",
        "obj.set_availability(False)\n",
        "print(obj.get_price())\n",
        "print(obj.is_available())\n"
      ],
      "metadata": {
        "colab": {
          "base_uri": "https://localhost:8080/"
        },
        "id": "T3FdZbZ9PBif",
        "outputId": "b2f78892-6a65-4c75-d731-9fd44b429fed"
      },
      "execution_count": null,
      "outputs": [
        {
          "output_type": "stream",
          "name": "stdout",
          "text": [
            "Laptop\n",
            "999.99\n",
            "True\n",
            "1499.99\n",
            "False\n"
          ]
        }
      ]
    },
    {
      "cell_type": "code",
      "source": [
        "class Customer:\n",
        "    def __init__(self, name):\n",
        "        self.name = name\n",
        "        self.purchase_history = []\n",
        "\n",
        "    def add_purchase(self, product):\n",
        "        self.purchase_history.append(product)\n",
        "\n",
        "    def get_purchase_history(self):\n",
        "        return self.purchase_history\n",
        "obj = Customer(\"John Doe\")\n",
        "obj.add_purchase(\"Laptop\")\n",
        "obj.add_purchase(\"Smartphone\")\n",
        "purchase_history = obj.get_purchase_history()\n",
        "print(purchase_history)\n"
      ],
      "metadata": {
        "colab": {
          "base_uri": "https://localhost:8080/"
        },
        "id": "LMoI7l-mQx3C",
        "outputId": "a476233f-fe86-4497-fb4c-0916e2b06107"
      },
      "execution_count": 1,
      "outputs": [
        {
          "output_type": "stream",
          "name": "stdout",
          "text": [
            "['Laptop', 'Smartphone']\n"
          ]
        }
      ]
    },
    {
      "cell_type": "code",
      "source": [
        "import json\n",
        "\n",
        "\n",
        "class CustomerDataHandler:\n",
        "    def __init__(self, customer):\n",
        "        self.customer = customer\n",
        "\n",
        "    @staticmethod\n",
        "    def save_customer_data(customer, name):\n",
        "        \"\"\"Saves customer purchase history to a JSON file.\"\"\"\n",
        "        with open(f'{customer.name}_data.json', 'w') as file:\n",
        "            json.dump(customer.get_purchase_history(), file)\n",
        "\n",
        "    @staticmethod\n",
        "    def load_customer_data(customer_name):\n",
        "        \"\"\"Loads customer purchase history from a JSON file.\"\"\"\n",
        "        try:\n",
        "            with open(f'{customer_name}_data.json', 'r') as file:\n",
        "                return json.load(file)\n",
        "        except FileNotFoundError:\n",
        "            return []\n",
        "\n",
        "\n",
        "# Create a customer object (assuming Customer class exists with get_purchase_history())\n",
        "customer = Customer(\"shaban\")\n",
        "customer.add_purchase(\"Laptop\")  # Assuming add_purchase method exists in Customer class\n",
        "customer.add_purchase(\"Smartphone\")\n",
        "\n",
        "# Save customer data using the instance\n",
        "customer_handler = CustomerDataHandler(customer)\n",
        "customer_handler.save_customer_data(customer,name=\"shaban\")  # Provide a name for the file\n",
        "\n",
        "# Assuming customer.name is set correctly after creation\n",
        "loaded_data = CustomerDataHandler.load_customer_data(customer.name)"
      ],
      "metadata": {
        "id": "ESqA1RzNXhaG"
      },
      "execution_count": 2,
      "outputs": []
    }
  ]
}