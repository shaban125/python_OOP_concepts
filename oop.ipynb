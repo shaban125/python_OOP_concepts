{
  "cells": [
    {
      "cell_type": "markdown",
      "metadata": {
        "id": "N7lQ4F27_Y0d"
      },
      "source": [
        "# Object-Oriented Programming (OOP) Concepts in Python"
      ],
      "id": "N7lQ4F27_Y0d"
    },
    {
      "cell_type": "markdown",
      "metadata": {
        "id": "Lf12CchH_Y0e"
      },
      "source": [
        "## Introduction to OOP Concepts\n",
        "Object-Oriented Programming (OOP) is a programming paradigm that uses objects and classes to structure software. The key principles of OOP include encapsulation, abstraction, inheritance, and polymorphism.\n",
        "\n",
        "### Benefits of Using OOP\n",
        "- **Modularity**: The source code for a class can be written and maintained independently of the source code for other classes.\n",
        "- **Reusability**: Once a class is written, it can be used to create multiple objects. Classes can also be reused in other programs.\n",
        "- **Extensibility**: New features can be added to existing code easily by creating new classes.\n",
        "- **Maintenance**: The modularity and reusability of OOP make it easier to debug, test, and maintain code."
      ],
      "id": "Lf12CchH_Y0e"
    },
    {
      "cell_type": "markdown",
      "metadata": {
        "id": "P5mYetRX_Y0g"
      },
      "source": [
        "## Classes and Objects\n",
        "### Definition and Explanation\n",
        "- **Class**: A blueprint for creating objects. It defines a set of attributes and methods that the created objects will have.\n",
        "- **Object**: An instance of a class. It is created using the class definition and can access the attributes and methods defined in the class."
      ],
      "id": "P5mYetRX_Y0g"
    },
    {
      "cell_type": "code",
      "execution_count": null,
      "metadata": {
        "id": "7Q6tyBos_Y0h"
      },
      "outputs": [],
      "source": [
        "# Example of a class and object in Python\n",
        "class Shop:\n",
        "    def __init__(self, name, location):\n",
        "        self.name = name\n",
        "        self.location = location\n",
        "\n",
        "    def display_info(self):\n",
        "        return f'Shop Name: {self.name}, Location: {self.location}'\n",
        "\n",
        "# Creating an object of the Shop class\n",
        "shop1 = Shop('Electronics Store', '1st Floor')\n",
        "print(shop1.display_info())  # Output: Shop Name: Electronics Store, Location: 1st Floor"
      ],
      "id": "7Q6tyBos_Y0h"
    },
    {
      "cell_type": "markdown",
      "metadata": {
        "id": "__kL7Zpk_Y0i"
      },
      "source": [
        "### Explanation\n",
        "- `class Shop`: Defines a class named Shop.\n",
        "- `def __init__(self, name, location)`: The constructor method that initializes the object's attributes.\n",
        "- `self.name` and `self.location`: Instance variables.\n",
        "- `def display_info(self)`: A method that returns a string with the shop's information.\n",
        "- `shop1 = Shop('Electronics Store', '1st Floor')`: Creates an object of the Shop class.\n",
        "- `print(shop1.display_info())`: Calls the display_info method on the shop1 object."
      ],
      "id": "__kL7Zpk_Y0i"
    },
    {
      "cell_type": "markdown",
      "metadata": {
        "id": "vM3bJZvS_Y0i"
      },
      "source": [
        "## Class-Level and Instance-Level Attributes\n",
        "### Definitions and Differences\n",
        "- **Class-Level Attributes**: Attributes that are shared among all instances of a class. They are defined within the class but outside any methods.\n",
        "- **Instance-Level Attributes**: Attributes that are specific to each instance of a class. They are defined within methods, typically within the constructor method."
      ],
      "id": "vM3bJZvS_Y0i"
    },
    {
      "cell_type": "code",
      "execution_count": null,
      "metadata": {
        "id": "66DUwPx5_Y0j"
      },
      "outputs": [],
      "source": [
        "# Example of class-level and instance-level attributes\n",
        "class Shop:\n",
        "    mall_name = 'Grand Shopping Mall'  # Class-level attribute\n",
        "\n",
        "    def __init__(self, name, location):\n",
        "        self.name = name  # Instance-level attribute\n",
        "        self.location = location  # Instance-level attribute\n",
        "\n",
        "shop1 = Shop('Electronics Store', '1st Floor')\n",
        "shop2 = Shop('Clothing Store', '2nd Floor')\n",
        "\n",
        "print(shop1.mall_name)  # Output: Grand Shopping Mall\n",
        "print(shop2.mall_name)  # Output: Grand Shopping Mall\n",
        "print(shop1.name)   # Output: Electronics Store\n",
        "print(shop2.name)   # Output: Clothing Store"
      ],
      "id": "66DUwPx5_Y0j"
    },
    {
      "cell_type": "markdown",
      "metadata": {
        "id": "hU47Izl5_Y0k"
      },
      "source": [
        "### Explanation\n",
        "- `mall_name = 'Grand Shopping Mall'`: A class-level attribute shared by all instances of the Shop class.\n",
        "- `self.name` and `self.location`: Instance-level attributes unique to each Shop object.\n",
        "- `shop1` and `shop2`: Instances of the Shop class.\n",
        "- `print(shop1.mall_name)`: Accesses the class-level attribute.\n",
        "- `print(shop1.name)`: Accesses the instance-level attribute."
      ],
      "id": "hU47Izl5_Y0k"
    },
    {
      "cell_type": "markdown",
      "metadata": {
        "id": "8imgYlje_Y0k"
      },
      "source": [
        "## Inheritance\n",
        "### Definition and Types\n",
        "- **Inheritance**: A mechanism by which one class (child class) can inherit attributes and methods from another class (parent class).\n",
        "\n",
        "### Types of Inheritance\n",
        "- **Single Inheritance**: A child class inherits from one parent class.\n",
        "- **Multiple Inheritance**: A child class inherits from more than one parent class.\n",
        "- **Multilevel Inheritance**: A child class inherits from a parent class, which in turn inherits from another parent class.\n",
        "- **Hierarchical Inheritance**: Multiple child classes inherit from a single parent class."
      ],
      "id": "8imgYlje_Y0k"
    },
    {
      "cell_type": "code",
      "execution_count": null,
      "metadata": {
        "id": "Gxxo9Gqh_Y0k"
      },
      "outputs": [],
      "source": [
        "# Example of Single Inheritance\n",
        "class Shop:\n",
        "    def __init__(self, name, location):\n",
        "        self.name = name\n",
        "        self.location = location\n",
        "\n",
        "    def display_info(self):\n",
        "        return f'Shop Name: {self.name}, Location: {self.location}'\n",
        "\n",
        "class ElectronicsShop(Shop):\n",
        "    def __init__(self, name, location, num_gadgets):\n",
        "        super().__init__(name, location)\n",
        "        self.num_gadgets = num_gadgets\n",
        "\n",
        "    def display_info(self):\n",
        "        return f'Shop Name: {self.name}, Location: {self.location}, Number of Gadgets: {self.num_gadgets}'\n",
        "\n",
        "shop1 = ElectronicsShop('Electronics Store', '1st Floor', 150)\n",
        "print(shop1.display_info())  # Output: Shop Name: Electronics Store, Location: 1st Floor, Number of Gadgets: 150"
      ],
      "id": "Gxxo9Gqh_Y0k"
    },
    {
      "cell_type": "markdown",
      "metadata": {
        "id": "oQAgxVej_Y0l"
      },
      "source": [
        "### Explanation\n",
        "- `class Shop`: A parent class with a constructor and a method `display_info`.\n",
        "- `class ElectronicsShop(Shop)`: A child class that inherits from the Shop class.\n",
        "- `super().__init__(name, location)`: Calls the constructor of the parent class.\n",
        "- `shop1 = ElectronicsShop('Electronics Store', '1st Floor', 150)`: Creates an instance of the ElectronicsShop class.\n",
        "- `print(shop1.display_info())`: Calls the overridden `display_info` method on the shop1 object."
      ],
      "id": "oQAgxVej_Y0l"
    },
    {
      "cell_type": "markdown",
      "metadata": {
        "id": "Vi5GkxwS_Y0l"
      },
      "source": [
        "## Encapsulation\n",
        "### Definition and Purpose\n",
        "- **Encapsulation**: A mechanism of restricting access to certain components of an object and bundling the data (attributes) and methods that manipulate the data into a single unit (class).\n",
        "\n",
        "### Purpose\n",
        "- Protects the integrity of the data.\n",
        "- Prevents external code from directly accessing and modifying internal data."
      ],
      "id": "Vi5GkxwS_Y0l"
    },
    {
      "cell_type": "code",
      "execution_count": null,
      "metadata": {
        "id": "5SQNH6Gg_Y0l"
      },
      "outputs": [],
      "source": [
        "# Example of Encapsulation\n",
        "class Shop:\n",
        "    def __init__(self, name, location):\n",
        "        self.__name = name  # Private attribute\n",
        "        self.__location = location  # Private attribute\n",
        "\n",
        "    def get_name(self):\n",
        "        return self.__name\n",
        "\n",
        "    def get_location(self):\n",
        "        return self.__location\n",
        "\n",
        "shop1 = Shop('Electronics Store', '1st Floor')\n",
        "print(shop1.get_name())  # Output: Electronics Store\n",
        "print(shop1.get_location())   # Output: 1st Floor"
      ],
      "id": "5SQNH6Gg_Y0l"
    },
    {
      "cell_type": "markdown",
      "metadata": {
        "id": "-r7yOT4k_Y0m"
      },
      "source": [
        "### Explanation\n",
        "- `self.__name` and `self.__location`: Private attributes that cannot be accessed directly from outside the class.\n",
        "- `get_name` and `get_location`: Public methods that provide controlled access to the private attributes."
      ],
      "id": "-r7yOT4k_Y0m"
    },
    {
      "cell_type": "markdown",
      "metadata": {
        "id": "8SUqclNx_Y0m"
      },
      "source": [
        "## Abstraction\n",
        "### Definition and Purpose\n",
        "- **Abstraction**: A mechanism of hiding the implementation details and showing only the essential features of an object.\n",
        "\n",
        "### Purpose\n",
        "- Reduces complexity by hiding unnecessary details.\n",
        "- Focuses on what an object does rather than how it does it."
      ],
      "id": "8SUqclNx_Y0m"
    },
    {
      "cell_type": "code",
      "execution_count": null,
      "metadata": {
        "id": "I3yUhzor_Y0m"
      },
      "outputs": [],
      "source": [
        "# Example of Abstraction\n",
        "from abc import ABC, abstractmethod\n",
        "\n",
        "class Shop(ABC):\n",
        "    @abstractmethod\n",
        "    def display_info(self):\n",
        "        pass\n",
        "\n",
        "class ElectronicsShop(Shop):\n",
        "    def __init__(self, name, location, num_gadgets):\n",
        "        self.name = name\n",
        "        self.location = location\n",
        "        self.num_gadgets = num_gadgets\n",
        "\n",
        "    def display_info(self):\n",
        "        return f'Shop Name: {self.name}, Location: {self.location}, Number of Gadgets: {self.num_gadgets}'\n",
        "\n",
        "shop1 = ElectronicsShop('Electronics Store', '1st Floor', 150)\n",
        "print(shop1.display_info())  # Output: Shop Name: Electronics Store, Location: 1st Floor, Number of Gadgets: 150"
      ],
      "id": "I3yUhzor_Y0m"
    },
    {
      "cell_type": "markdown",
      "metadata": {
        "id": "tao_y1Uw_Y0m"
      },
      "source": [
        "### Explanation\n",
        "- `class Shop(ABC)`: An abstract base class with an abstract method `display_info`.\n",
        "- `class ElectronicsShop(Shop)`: A subclass that implements the `display_info` method.\n",
        "- `shop1 = ElectronicsShop('Electronics Store', '1st Floor', 150)`: Creates an instance of the ElectronicsShop class.\n",
        "- `print(shop1.display_info())`: Calls the `display_info` method on the shop1 object."
      ],
      "id": "tao_y1Uw_Y0m"
    },
    {
      "cell_type": "markdown",
      "metadata": {
        "id": "E3Nf_sf1_Y0m"
      },
      "source": [
        "## Polymorphism\n",
        "### Definition and Types\n",
        "- **Polymorphism**: The ability of different objects to respond to the same method in different ways.\n",
        "\n",
        "### Types of Polymorphism\n",
        "- **Method Overloading**: Defining multiple methods with the same name but different parameters (not natively supported in Python).\n",
        "- **Method Overriding**: A child class provides a specific implementation of a method that is already defined in its parent class."
      ],
      "id": "E3Nf_sf1_Y0m"
    },
    {
      "cell_type": "code",
      "execution_count": null,
      "metadata": {
        "id": "MyU6AmB3_Y0n"
      },
      "outputs": [],
      "source": [
        "# Example of Method Overriding (Polymorphism)\n",
        "class Shop:\n",
        "    def display_info(self):\n",
        "        return 'General Shop Information'\n",
        "\n",
        "class ElectronicsShop(Shop):\n",
        "    def display_info(self):\n",
        "        return 'Electronics Shop Information'\n",
        "\n",
        "class ClothingShop(Shop):\n",
        "    def display_info(self):\n",
        "        return 'Clothing Shop Information'\n",
        "\n",
        "shop1 = Shop()\n",
        "shop2 = ElectronicsShop()\n",
        "shop3 = ClothingShop()\n",
        "\n",
        "print(shop1.display_info())      # Output: General Shop Information\n",
        "print(shop2.display_info())   # Output: Electronics Shop Information\n",
        "print(shop3.display_info())   # Output: Clothing Shop Information"
      ],
      "id": "MyU6AmB3_Y0n"
    },
    {
      "cell_type": "markdown",
      "metadata": {
        "id": "sY74RQiP_Y0n"
      },
      "source": [
        "### Explanation\n",
        "- `class Shop`: A parent class with a method `display_info`.\n",
        "- `class ElectronicsShop(Shop)`: A child class that overrides the `display_info` method.\n",
        "- `class ClothingShop(Shop)`: Another child class that overrides the `display_info` method.\n",
        "- `print(shop1.display_info())`: Calls the `display_info` method on the shop1 object.\n",
        "- `print(shop2.display_info())`: Calls the overridden `display_info` method on the shop2 object.\n",
        "- `print(shop3.display_info())`: Calls the overridden `display_info` method on the shop3 object."
      ],
      "id": "sY74RQiP_Y0n"
    },
    {
      "cell_type": "markdown",
      "metadata": {
        "id": "Nf2aLRrl_Y0n"
      },
      "source": [
        "## Magic Functions (Dunder Methods)\n",
        "### Definition and Purpose\n",
        "- **Magic Functions**: Special methods with double underscores before and after their names (e.g., `__init__`, `__str__`). These methods are also known as dunder (double underscore) methods.\n",
        "\n",
        "### Purpose\n",
        "- Provide a way to implement behavior for built-in operations.\n",
        "- Customize the behavior of Python objects."
      ],
      "id": "Nf2aLRrl_Y0n"
    },
    {
      "cell_type": "code",
      "execution_count": null,
      "metadata": {
        "id": "mzqOF-Ey_Y0n"
      },
      "outputs": [],
      "source": [
        "# Example of Magic Functions\n",
        "class Shop:\n",
        "    def __init__(self, name, location):\n",
        "        self.name = name\n",
        "        self.location = location\n",
        "\n",
        "    def __str__(self):\n",
        "        return f'Shop Name: {self.name}, Location: {self.location}'\n",
        "\n",
        "    def __len__(self):\n",
        "        return len(self.name)\n",
        "\n",
        "shop1 = Shop('Electronics Store', '1st Floor')\n",
        "print(shop1)  # Output: Shop Name: Electronics Store, Location: 1st Floor\n",
        "print(len(shop1))  # Output: 16"
      ],
      "id": "mzqOF-Ey_Y0n"
    },
    {
      "cell_type": "markdown",
      "metadata": {
        "id": "2e10jeR-_Y0n"
      },
      "source": [
        "### Explanation\n",
        "- `__init__`: Initializes the object's attributes.\n",
        "- `__str__`: Returns a string representation of the object.\n",
        "- `__len__`: Returns the length of the shop's name."
      ],
      "id": "2e10jeR-_Y0n"
    },
    {
      "cell_type": "markdown",
      "metadata": {
        "id": "HuWUuz63_Y0n"
      },
      "source": [
        "## Static Methods\n",
        "### Definition and Purpose\n",
        "- **Static Methods**: Methods that do not modify object state or class state. They are defined using the `@staticmethod` decorator.\n",
        "\n",
        "### Purpose\n",
        "- Group functions that have some logical connection with a class but do not need access to the class or instance."
      ],
      "id": "HuWUuz63_Y0n"
    },
    {
      "cell_type": "code",
      "execution_count": null,
      "metadata": {
        "id": "jib8hc1U_Y0o"
      },
      "outputs": [],
      "source": [
        "# Example of Static Methods\n",
        "class Shop:\n",
        "    @staticmethod\n",
        "    def is_open(day):\n",
        "        open_days = ['Monday', 'Tuesday', 'Wednesday', 'Thursday', 'Friday', 'Saturday']\n",
        "        return day in open_days\n",
        "\n",
        "print(Shop.is_open('Sunday'))  # Output: False\n",
        "print(Shop.is_open('Monday'))  # Output: True"
      ],
      "id": "jib8hc1U_Y0o"
    },
    {
      "cell_type": "markdown",
      "metadata": {
        "id": "YH4h7yFl_Y0o"
      },
      "source": [
        "### Explanation\n",
        "- `@staticmethod`: Decorator to define a static method.\n",
        "- `is_open(day)`: A static method that checks if the shop is open on a given day."
      ],
      "id": "YH4h7yFl_Y0o"
    },
    {
      "cell_type": "markdown",
      "metadata": {
        "id": "KTz5iwDs_Y0o"
      },
      "source": [
        "## Class Methods\n",
        "### Definition and Purpose\n",
        "- **Class Methods**: Methods that modify the class state that applies across all instances of the class. They are defined using the `@classmethod` decorator and take `cls` as the first parameter.\n",
        "\n",
        "### Purpose\n",
        "- Used for factory methods that instantiate an instance using different parameters."
      ],
      "id": "KTz5iwDs_Y0o"
    },
    {
      "cell_type": "code",
      "execution_count": null,
      "metadata": {
        "id": "TUCHXNxv_Y0o"
      },
      "outputs": [],
      "source": [
        "# Example of Class Methods\n",
        "class Shop:\n",
        "    mall_name = 'Grand Shopping Mall'\n",
        "\n",
        "    def __init__(self, name, location):\n",
        "        self.name = name\n",
        "        self.location = location\n",
        "\n",
        "    @classmethod\n",
        "    def change_mall_name(cls, new_name):\n",
        "        cls.mall_name = new_name\n",
        "\n",
        "print(Shop.mall_name)  # Output: Grand Shopping Mall\n",
        "Shop.change_mall_name('Mega Shopping Mall')\n",
        "print(Shop.mall_name)  # Output: Mega Shopping Mall"
      ],
      "id": "TUCHXNxv_Y0o"
    },
    {
      "cell_type": "markdown",
      "metadata": {
        "id": "PgOY-b8I_Y0o"
      },
      "source": [
        "### Explanation\n",
        "- `@classmethod`: Decorator to define a class method.\n",
        "- `change_mall_name(cls, new_name)`: A class method that changes the class-level attribute `mall_name`."
      ],
      "id": "PgOY-b8I_Y0o"
    },
    {
      "cell_type": "markdown",
      "metadata": {
        "id": "zSryli5W_Y0p"
      },
      "source": [
        "## Double Underscore (Dunder) Methods and Variables\n",
        "### Definition and Purpose\n",
        "- **Double Underscore Methods**: Special methods with double underscores before and after their names (e.g., `__init__`, `__str__`). Also known as magic methods.\n",
        "- **Double Underscore Variables**: Variables with double underscores are used to avoid naming conflicts in subclasses.\n",
        "\n",
        "### Purpose\n",
        "- Dunder methods provide a way to define the behavior of objects for built-in operations.\n",
        "- Dunder variables help in name mangling to avoid conflicts."
      ],
      "id": "zSryli5W_Y0p"
    },
    {
      "cell_type": "code",
      "execution_count": null,
      "metadata": {
        "id": "7XAlK8OA_Y0p"
      },
      "outputs": [],
      "source": [
        "# Example of Dunder Methods and Variables\n",
        "class Shop:\n",
        "    def __init__(self, name, location):\n",
        "        self.__name = name  # Private attribute\n",
        "        self.location = location\n",
        "\n",
        "    def __str__(self):\n",
        "        return f'Shop Name: {self.__name}, Location: {self.location}'\n",
        "\n",
        "shop1 = Shop('Electronics Store', '1st Floor')\n",
        "print(shop1)  # Output: Shop Name: Electronics Store, Location: 1st Floor"
      ],
      "id": "7XAlK8OA_Y0p"
    },
    {
      "cell_type": "markdown",
      "metadata": {
        "id": "oY68ze_U_Y0p"
      },
      "source": [
        "### Explanation\n",
        "- `self.__name`: A private attribute with name mangling to avoid naming conflicts.\n",
        "- `__str__`: A dunder method to define the string representation of the object."
      ],
      "id": "oY68ze_U_Y0p"
    },
    {
      "cell_type": "markdown",
      "metadata": {
        "id": "0-mmTorZ_Y0p"
      },
      "source": [
        "## `super()` Method\n",
        "### Definition and Purpose\n",
        "- **`super()`**: A built-in function used to call a method from the parent class.\n",
        "\n",
        "### Purpose\n",
        "- To access methods of a parent class from within a child class."
      ],
      "id": "0-mmTorZ_Y0p"
    },
    {
      "cell_type": "code",
      "execution_count": null,
      "metadata": {
        "id": "lWVLu0Mf_Y0p"
      },
      "outputs": [],
      "source": [
        "# Example of `super()` Method\n",
        "class Shop:\n",
        "    def __init__(self, name, location):\n",
        "        self.name = name\n",
        "        self.location = location\n",
        "\n",
        "    def display_info(self):\n",
        "        return f'Shop Name: {self.name}, Location: {self.location}'\n",
        "\n",
        "class ElectronicsShop(Shop):\n",
        "    def __init__(self, name, location, num_gadgets):\n",
        "        super().__init__(name, location)\n",
        "        self.num_gadgets = num_gadgets\n",
        "\n",
        "    def display_info(self):\n",
        "        parent_info = super().display_info()\n",
        "        return f'{parent_info}, Number of Gadgets: {self.num_gadgets}'\n",
        "\n",
        "shop1 = ElectronicsShop('Electronics Store', '1st Floor', 150)\n",
        "print(shop1.display_info())  # Output: Shop Name: Electronics Store, Location: 1st Floor, Number of Gadgets: 150"
      ],
      "id": "lWVLu0Mf_Y0p"
    },
    {
      "cell_type": "markdown",
      "metadata": {
        "id": "mtw2mLIm_Y0p"
      },
      "source": [
        "### Explanation\n",
        "- `super().__init__(name, location)`: Calls the constructor of the parent class.\n",
        "- `super().display_info()`: Calls the `display_info` method of the parent class."
      ],
      "id": "mtw2mLIm_Y0p"
    },
    {
      "cell_type": "markdown",
      "metadata": {
        "id": "rdhTjMXj_Y0q"
      },
      "source": [
        "## Decorators\n",
        "### Definition and Purpose\n",
        "- **Decorators**: Functions that modify the behavior of another function or method. They are defined using the `@decorator_name` syntax.\n",
        "\n",
        "### Purpose\n",
        "- To extend or modify the behavior of functions or methods without modifying their code."
      ],
      "id": "rdhTjMXj_Y0q"
    },
    {
      "cell_type": "code",
      "execution_count": null,
      "metadata": {
        "id": "lcVzNsTn_Y0q"
      },
      "outputs": [],
      "source": [
        "# Example of Decorators\n",
        "def discount_decorator(func):\n",
        "    def wrapper(*args, **kwargs):\n",
        "        result = func(*args, **kwargs)\n",
        "        return result * 0.9  # Apply a 10% discount\n",
        "    return wrapper\n",
        "\n",
        "class Shop:\n",
        "    def __init__(self, name, price):\n",
        "        self.name = name\n",
        "        self.price = price\n",
        "\n",
        "    @discount_decorator\n",
        "    def get_price(self):\n",
        "        return self.price\n",
        "\n",
        "shop1 = Shop('Electronics Store', 1000)\n",
        "print(shop1.get_price())  # Output: 900.0"
      ],
      "id": "lcVzNsTn_Y0q"
    },
    {
      "cell_type": "markdown",
      "metadata": {
        "id": "XAqZZD2X_Y0q"
      },
      "source": [
        "### Explanation\n",
        "- `@discount_decorator`: Decorator applied to the `get_price` method.\n",
        "- `discount_decorator(func)`: A decorator function that modifies the behavior of `get_price` by applying a 10% discount."
      ],
      "id": "XAqZZD2X_Y0q"
    },
    {
      "cell_type": "markdown",
      "metadata": {
        "id": "3srFIFmh_Y0q"
      },
      "source": [
        "## Runtime Polymorphism\n",
        "### Definition and Purpose\n",
        "- **Runtime Polymorphism**: Polymorphism that is resolved during runtime. It is achieved through method overriding.\n",
        "\n",
        "### Purpose\n",
        "- Allows a method to behave differently based on the object that is invoking it."
      ],
      "id": "3srFIFmh_Y0q"
    },
    {
      "cell_type": "code",
      "execution_count": null,
      "metadata": {
        "id": "py9n6REZ_Y0u"
      },
      "outputs": [],
      "source": [
        "# Example of Runtime Polymorphism\n",
        "class Shop:\n",
        "    def display_info(self):\n",
        "        return 'General Shop Information'\n",
        "\n",
        "class ElectronicsShop(Shop):\n",
        "    def display_info(self):\n",
        "        return 'Electronics Shop Information'\n",
        "\n",
        "class ClothingShop(Shop):\n",
        "    def display_info(self):\n",
        "        return 'Clothing Shop Information'\n",
        "\n",
        "def print_shop_info(shop):\n",
        "    print(shop.display_info())\n",
        "\n",
        "shop1 = Shop()\n",
        "shop2 = ElectronicsShop()\n",
        "shop3 = ClothingShop()\n",
        "\n",
        "print_shop_info(shop1)  # Output: General Shop Information\n",
        "print_shop_info(shop2)  # Output: Electronics Shop Information\n",
        "print_shop_info(shop3)  # Output: Clothing Shop Information"
      ],
      "id": "py9n6REZ_Y0u"
    },
    {
      "cell_type": "markdown",
      "metadata": {
        "id": "UQXwH5I2_Y0v"
      },
      "source": [
        "### Explanation\n",
        "- `class Shop`: A parent class with a method `display_info`.\n",
        "- `class ElectronicsShop(Shop)`: A child class that overrides the `display_info` method.\n",
        "- `class ClothingShop(Shop)`: Another child class that overrides the `display_info` method.\n",
        "- `print_shop_info(shop)`: A function that calls the `display_info` method on the given shop object. The actual method invoked depends on the type of the shop object (runtime polymorphism)."
      ],
      "id": "UQXwH5I2_Y0v"
    },
    {
      "cell_type": "markdown",
      "metadata": {
        "id": "Frxb3bsS_Y0v"
      },
      "source": [
        "## Compile-Time Polymorphism\n",
        "### Definition and Purpose\n",
        "- **Compile-Time Polymorphism**: Polymorphism that is resolved during compile time. It is achieved through method overloading (not natively supported in Python).\n",
        "\n",
        "### Purpose\n",
        "- Allows methods to have different behaviors based on the number or type of their parameters."
      ],
      "id": "Frxb3bsS_Y0v"
    },
    {
      "cell_type": "markdown",
      "metadata": {
        "id": "R2RPCoP-_Y0v"
      },
      "source": [
        "### Example\n",
        "Python does not support method overloading directly. However, we can achieve similar functionality using default arguments or variable-length arguments."
      ],
      "id": "R2RPCoP-_Y0v"
    },
    {
      "cell_type": "code",
      "execution_count": null,
      "metadata": {
        "id": "mGSj9RTa_Y0v"
      },
      "outputs": [],
      "source": [
        "# Example of Compile-Time Polymorphism using default arguments\n",
        "class Shop:\n",
        "    def get_discounted_price(self, price, discount=0):\n",
        "        return price - (price * discount / 100)\n",
        "\n",
        "shop1 = Shop()\n",
        "print(shop1.get_discounted_price(1000))  # Output: 1000\n",
        "print(shop1.get_discounted_price(1000, 10))  # Output: 900"
      ],
      "id": "mGSj9RTa_Y0v"
    },
    {
      "cell_type": "markdown",
      "metadata": {
        "id": "aoMppqTC_Y0v"
      },
      "source": [
        "### Explanation\n",
        "- `get_discounted_price(self, price, discount=0)`: A method with a default argument `discount`. This allows the method to be called with different numbers of arguments, achieving a form of compile-time polymorphism."
      ],
      "id": "aoMppqTC_Y0v"
    }
  ],
  "metadata": {
    "kernelspec": {
      "display_name": "Python 3",
      "language": "python",
      "name": "python3"
    },
    "language_info": {
      "codemirror_mode": {
        "name": "ipython",
        "version": 3
      },
      "file_extension": ".py",
      "mimetype": "text/x-python",
      "name": "python",
      "nbconvert_exporter": "python",
      "pygments_lexer": "ipython3",
      "version": "3.9.13"
    },
    "colab": {
      "provenance": []
    }
  },
  "nbformat": 4,
  "nbformat_minor": 5
}